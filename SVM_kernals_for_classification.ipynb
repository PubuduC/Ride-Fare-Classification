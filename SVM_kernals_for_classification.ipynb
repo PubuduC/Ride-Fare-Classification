{
 "cells": [
  {
   "cell_type": "code",
   "execution_count": 1,
   "metadata": {},
   "outputs": [],
   "source": [
    "import numpy as np\n",
    "import pandas as pd\n",
    "from sklearn import  preprocessing # used for label encoding and imputing NaNs\n",
    "from sklearn.model_selection import train_test_split\n",
    "from sklearn.metrics import accuracy_score\n",
    "from sklearn.metrics import classification_report\n",
    "from sklearn.metrics import r2_score\n",
    "\n",
    "import datetime as dt # we will need this to convert the date to a number of days since some point\n",
    "\n",
    "from sklearn.tree import export_graphviz"
   ]
  },
  {
   "cell_type": "markdown",
   "metadata": {},
   "source": [
    "Read data from CSV files"
   ]
  },
  {
   "cell_type": "code",
   "execution_count": 2,
   "metadata": {},
   "outputs": [
    {
     "data": {
      "text/html": [
       "<div>\n",
       "<style scoped>\n",
       "    .dataframe tbody tr th:only-of-type {\n",
       "        vertical-align: middle;\n",
       "    }\n",
       "\n",
       "    .dataframe tbody tr th {\n",
       "        vertical-align: top;\n",
       "    }\n",
       "\n",
       "    .dataframe thead th {\n",
       "        text-align: right;\n",
       "    }\n",
       "</style>\n",
       "<table border=\"1\" class=\"dataframe\">\n",
       "  <thead>\n",
       "    <tr style=\"text-align: right;\">\n",
       "      <th></th>\n",
       "      <th>tripid</th>\n",
       "      <th>additional_fare</th>\n",
       "      <th>duration</th>\n",
       "      <th>meter_waiting</th>\n",
       "      <th>meter_waiting_fare</th>\n",
       "      <th>meter_waiting_till_pickup</th>\n",
       "      <th>pickup_time</th>\n",
       "      <th>drop_time</th>\n",
       "      <th>pick_lat</th>\n",
       "      <th>pick_lon</th>\n",
       "      <th>drop_lat</th>\n",
       "      <th>drop_lon</th>\n",
       "      <th>fare</th>\n",
       "      <th>label</th>\n",
       "    </tr>\n",
       "  </thead>\n",
       "  <tbody>\n",
       "    <tr>\n",
       "      <th>0</th>\n",
       "      <td>189123628</td>\n",
       "      <td>10.5</td>\n",
       "      <td>834.0</td>\n",
       "      <td>56.0</td>\n",
       "      <td>0.0000</td>\n",
       "      <td>64.0</td>\n",
       "      <td>2019-11-01 00:20:00</td>\n",
       "      <td>2019-11-01 00:34:00</td>\n",
       "      <td>6.86252</td>\n",
       "      <td>79.8993</td>\n",
       "      <td>6.90330</td>\n",
       "      <td>79.8783</td>\n",
       "      <td>270.32</td>\n",
       "      <td>correct</td>\n",
       "    </tr>\n",
       "    <tr>\n",
       "      <th>1</th>\n",
       "      <td>189125358</td>\n",
       "      <td>10.5</td>\n",
       "      <td>791.0</td>\n",
       "      <td>47.0</td>\n",
       "      <td>0.0000</td>\n",
       "      <td>134.0</td>\n",
       "      <td>2019-11-01 00:56:00</td>\n",
       "      <td>2019-11-01 01:09:00</td>\n",
       "      <td>6.88589</td>\n",
       "      <td>79.8984</td>\n",
       "      <td>6.91373</td>\n",
       "      <td>79.8923</td>\n",
       "      <td>197.85</td>\n",
       "      <td>correct</td>\n",
       "    </tr>\n",
       "    <tr>\n",
       "      <th>2</th>\n",
       "      <td>189125719</td>\n",
       "      <td>10.5</td>\n",
       "      <td>1087.0</td>\n",
       "      <td>80.0</td>\n",
       "      <td>0.0000</td>\n",
       "      <td>61.0</td>\n",
       "      <td>2019-11-01 01:08:00</td>\n",
       "      <td>2019-11-01 01:26:00</td>\n",
       "      <td>6.90839</td>\n",
       "      <td>79.8651</td>\n",
       "      <td>6.93669</td>\n",
       "      <td>79.9146</td>\n",
       "      <td>301.64</td>\n",
       "      <td>correct</td>\n",
       "    </tr>\n",
       "    <tr>\n",
       "      <th>3</th>\n",
       "      <td>189127273</td>\n",
       "      <td>10.5</td>\n",
       "      <td>598.0</td>\n",
       "      <td>271.0</td>\n",
       "      <td>15.6638</td>\n",
       "      <td>68.0</td>\n",
       "      <td>2019-11-01 02:27:00</td>\n",
       "      <td>2019-11-01 02:37:00</td>\n",
       "      <td>6.92570</td>\n",
       "      <td>79.8895</td>\n",
       "      <td>6.92748</td>\n",
       "      <td>79.8971</td>\n",
       "      <td>82.30</td>\n",
       "      <td>correct</td>\n",
       "    </tr>\n",
       "    <tr>\n",
       "      <th>4</th>\n",
       "      <td>189128020</td>\n",
       "      <td>NaN</td>\n",
       "      <td>NaN</td>\n",
       "      <td>NaN</td>\n",
       "      <td>NaN</td>\n",
       "      <td>NaN</td>\n",
       "      <td>2019-11-01 03:34:00</td>\n",
       "      <td>2019-11-01 03:51:00</td>\n",
       "      <td>6.87441</td>\n",
       "      <td>79.8615</td>\n",
       "      <td>6.84478</td>\n",
       "      <td>79.9290</td>\n",
       "      <td>358.39</td>\n",
       "      <td>correct</td>\n",
       "    </tr>\n",
       "  </tbody>\n",
       "</table>\n",
       "</div>"
      ],
      "text/plain": [
       "      tripid  additional_fare  duration  meter_waiting  meter_waiting_fare  \\\n",
       "0  189123628             10.5     834.0           56.0              0.0000   \n",
       "1  189125358             10.5     791.0           47.0              0.0000   \n",
       "2  189125719             10.5    1087.0           80.0              0.0000   \n",
       "3  189127273             10.5     598.0          271.0             15.6638   \n",
       "4  189128020              NaN       NaN            NaN                 NaN   \n",
       "\n",
       "   meter_waiting_till_pickup         pickup_time           drop_time  \\\n",
       "0                       64.0 2019-11-01 00:20:00 2019-11-01 00:34:00   \n",
       "1                      134.0 2019-11-01 00:56:00 2019-11-01 01:09:00   \n",
       "2                       61.0 2019-11-01 01:08:00 2019-11-01 01:26:00   \n",
       "3                       68.0 2019-11-01 02:27:00 2019-11-01 02:37:00   \n",
       "4                        NaN 2019-11-01 03:34:00 2019-11-01 03:51:00   \n",
       "\n",
       "   pick_lat  pick_lon  drop_lat  drop_lon    fare    label  \n",
       "0   6.86252   79.8993   6.90330   79.8783  270.32  correct  \n",
       "1   6.88589   79.8984   6.91373   79.8923  197.85  correct  \n",
       "2   6.90839   79.8651   6.93669   79.9146  301.64  correct  \n",
       "3   6.92570   79.8895   6.92748   79.8971   82.30  correct  \n",
       "4   6.87441   79.8615   6.84478   79.9290  358.39  correct  "
      ]
     },
     "execution_count": 2,
     "metadata": {},
     "output_type": "execute_result"
    }
   ],
   "source": [
    "fare_data_train = pd.read_csv(\"train.csv\", parse_dates=['pickup_time', 'drop_time'])\n",
    "fare_data_train.head()"
   ]
  },
  {
   "cell_type": "code",
   "execution_count": 3,
   "metadata": {},
   "outputs": [
    {
     "name": "stdout",
     "output_type": "stream",
     "text": [
      "<class 'pandas.core.frame.DataFrame'>\n",
      "RangeIndex: 17176 entries, 0 to 17175\n",
      "Data columns (total 14 columns):\n",
      " #   Column                     Non-Null Count  Dtype         \n",
      "---  ------                     --------------  -----         \n",
      " 0   tripid                     17176 non-null  int64         \n",
      " 1   additional_fare            16974 non-null  float64       \n",
      " 2   duration                   16974 non-null  float64       \n",
      " 3   meter_waiting              16974 non-null  float64       \n",
      " 4   meter_waiting_fare         16974 non-null  float64       \n",
      " 5   meter_waiting_till_pickup  16974 non-null  float64       \n",
      " 6   pickup_time                17176 non-null  datetime64[ns]\n",
      " 7   drop_time                  17176 non-null  datetime64[ns]\n",
      " 8   pick_lat                   17176 non-null  float64       \n",
      " 9   pick_lon                   17176 non-null  float64       \n",
      " 10  drop_lat                   17176 non-null  float64       \n",
      " 11  drop_lon                   17176 non-null  float64       \n",
      " 12  fare                       17039 non-null  float64       \n",
      " 13  label                      17176 non-null  object        \n",
      "dtypes: datetime64[ns](2), float64(10), int64(1), object(1)\n",
      "memory usage: 1.8+ MB\n"
     ]
    }
   ],
   "source": [
    "fare_data_train.info()"
   ]
  },
  {
   "cell_type": "code",
   "execution_count": 4,
   "metadata": {},
   "outputs": [],
   "source": [
    "#ignoring dates\n",
    "fare_data_train['pickup_time_only'] = fare_data_train['pickup_time'].dt.time\n",
    "fare_data_train['drop_time_only'] = fare_data_train['drop_time'].dt.time"
   ]
  },
  {
   "cell_type": "code",
   "execution_count": 5,
   "metadata": {},
   "outputs": [
    {
     "data": {
      "text/html": [
       "<div>\n",
       "<style scoped>\n",
       "    .dataframe tbody tr th:only-of-type {\n",
       "        vertical-align: middle;\n",
       "    }\n",
       "\n",
       "    .dataframe tbody tr th {\n",
       "        vertical-align: top;\n",
       "    }\n",
       "\n",
       "    .dataframe thead th {\n",
       "        text-align: right;\n",
       "    }\n",
       "</style>\n",
       "<table border=\"1\" class=\"dataframe\">\n",
       "  <thead>\n",
       "    <tr style=\"text-align: right;\">\n",
       "      <th></th>\n",
       "      <th>pickup_time_only</th>\n",
       "      <th>pickup_time_only_code</th>\n",
       "      <th>drop_time_only</th>\n",
       "      <th>drop_time_only_code</th>\n",
       "    </tr>\n",
       "  </thead>\n",
       "  <tbody>\n",
       "    <tr>\n",
       "      <th>0</th>\n",
       "      <td>00:20:00</td>\n",
       "      <td>19</td>\n",
       "      <td>00:34:00</td>\n",
       "      <td>34</td>\n",
       "    </tr>\n",
       "    <tr>\n",
       "      <th>1</th>\n",
       "      <td>00:56:00</td>\n",
       "      <td>52</td>\n",
       "      <td>01:09:00</td>\n",
       "      <td>69</td>\n",
       "    </tr>\n",
       "    <tr>\n",
       "      <th>2</th>\n",
       "      <td>01:08:00</td>\n",
       "      <td>62</td>\n",
       "      <td>01:26:00</td>\n",
       "      <td>81</td>\n",
       "    </tr>\n",
       "    <tr>\n",
       "      <th>3</th>\n",
       "      <td>02:27:00</td>\n",
       "      <td>118</td>\n",
       "      <td>02:37:00</td>\n",
       "      <td>133</td>\n",
       "    </tr>\n",
       "    <tr>\n",
       "      <th>4</th>\n",
       "      <td>03:34:00</td>\n",
       "      <td>163</td>\n",
       "      <td>03:51:00</td>\n",
       "      <td>179</td>\n",
       "    </tr>\n",
       "  </tbody>\n",
       "</table>\n",
       "</div>"
      ],
      "text/plain": [
       "  pickup_time_only  pickup_time_only_code drop_time_only  drop_time_only_code\n",
       "0         00:20:00                     19       00:34:00                   34\n",
       "1         00:56:00                     52       01:09:00                   69\n",
       "2         01:08:00                     62       01:26:00                   81\n",
       "3         02:27:00                    118       02:37:00                  133\n",
       "4         03:34:00                    163       03:51:00                  179"
      ]
     },
     "execution_count": 5,
     "metadata": {},
     "output_type": "execute_result"
    }
   ],
   "source": [
    "#encode object data\n",
    "from sklearn.preprocessing import LabelEncoder\n",
    "lb_label = LabelEncoder()\n",
    "fare_data_train[\"pickup_time_only_code\"] = lb_label.fit_transform(fare_data_train[\"pickup_time_only\"])\n",
    "fare_data_train[\"drop_time_only_code\"] = lb_label.fit_transform(fare_data_train[\"drop_time_only\"])\n",
    "fare_data_train[[\"pickup_time_only\", \"pickup_time_only_code\", \"drop_time_only\", \"drop_time_only_code\"]].head(5)"
   ]
  },
  {
   "cell_type": "code",
   "execution_count": 6,
   "metadata": {},
   "outputs": [],
   "source": [
    "fare_data_train[\"binary_label\"] = np.where(fare_data_train[\"label\"].str.contains(\"incorrect\"), 0,1)"
   ]
  },
  {
   "cell_type": "code",
   "execution_count": 7,
   "metadata": {},
   "outputs": [
    {
     "data": {
      "text/html": [
       "<div>\n",
       "<style scoped>\n",
       "    .dataframe tbody tr th:only-of-type {\n",
       "        vertical-align: middle;\n",
       "    }\n",
       "\n",
       "    .dataframe tbody tr th {\n",
       "        vertical-align: top;\n",
       "    }\n",
       "\n",
       "    .dataframe thead th {\n",
       "        text-align: right;\n",
       "    }\n",
       "</style>\n",
       "<table border=\"1\" class=\"dataframe\">\n",
       "  <thead>\n",
       "    <tr style=\"text-align: right;\">\n",
       "      <th></th>\n",
       "      <th>tripid</th>\n",
       "      <th>additional_fare</th>\n",
       "      <th>duration</th>\n",
       "      <th>meter_waiting</th>\n",
       "      <th>meter_waiting_fare</th>\n",
       "      <th>meter_waiting_till_pickup</th>\n",
       "      <th>pickup_time</th>\n",
       "      <th>drop_time</th>\n",
       "      <th>pick_lat</th>\n",
       "      <th>pick_lon</th>\n",
       "      <th>drop_lat</th>\n",
       "      <th>drop_lon</th>\n",
       "      <th>fare</th>\n",
       "      <th>label</th>\n",
       "      <th>pickup_time_only</th>\n",
       "      <th>drop_time_only</th>\n",
       "      <th>pickup_time_only_code</th>\n",
       "      <th>drop_time_only_code</th>\n",
       "      <th>binary_label</th>\n",
       "    </tr>\n",
       "  </thead>\n",
       "  <tbody>\n",
       "    <tr>\n",
       "      <th>0</th>\n",
       "      <td>189123628</td>\n",
       "      <td>10.5</td>\n",
       "      <td>834.0</td>\n",
       "      <td>56.0</td>\n",
       "      <td>0.0000</td>\n",
       "      <td>64.0</td>\n",
       "      <td>2019-11-01 00:20:00</td>\n",
       "      <td>2019-11-01 00:34:00</td>\n",
       "      <td>6.86252</td>\n",
       "      <td>79.8993</td>\n",
       "      <td>6.90330</td>\n",
       "      <td>79.8783</td>\n",
       "      <td>270.32</td>\n",
       "      <td>correct</td>\n",
       "      <td>00:20:00</td>\n",
       "      <td>00:34:00</td>\n",
       "      <td>19</td>\n",
       "      <td>34</td>\n",
       "      <td>1</td>\n",
       "    </tr>\n",
       "    <tr>\n",
       "      <th>1</th>\n",
       "      <td>189125358</td>\n",
       "      <td>10.5</td>\n",
       "      <td>791.0</td>\n",
       "      <td>47.0</td>\n",
       "      <td>0.0000</td>\n",
       "      <td>134.0</td>\n",
       "      <td>2019-11-01 00:56:00</td>\n",
       "      <td>2019-11-01 01:09:00</td>\n",
       "      <td>6.88589</td>\n",
       "      <td>79.8984</td>\n",
       "      <td>6.91373</td>\n",
       "      <td>79.8923</td>\n",
       "      <td>197.85</td>\n",
       "      <td>correct</td>\n",
       "      <td>00:56:00</td>\n",
       "      <td>01:09:00</td>\n",
       "      <td>52</td>\n",
       "      <td>69</td>\n",
       "      <td>1</td>\n",
       "    </tr>\n",
       "    <tr>\n",
       "      <th>2</th>\n",
       "      <td>189125719</td>\n",
       "      <td>10.5</td>\n",
       "      <td>1087.0</td>\n",
       "      <td>80.0</td>\n",
       "      <td>0.0000</td>\n",
       "      <td>61.0</td>\n",
       "      <td>2019-11-01 01:08:00</td>\n",
       "      <td>2019-11-01 01:26:00</td>\n",
       "      <td>6.90839</td>\n",
       "      <td>79.8651</td>\n",
       "      <td>6.93669</td>\n",
       "      <td>79.9146</td>\n",
       "      <td>301.64</td>\n",
       "      <td>correct</td>\n",
       "      <td>01:08:00</td>\n",
       "      <td>01:26:00</td>\n",
       "      <td>62</td>\n",
       "      <td>81</td>\n",
       "      <td>1</td>\n",
       "    </tr>\n",
       "    <tr>\n",
       "      <th>3</th>\n",
       "      <td>189127273</td>\n",
       "      <td>10.5</td>\n",
       "      <td>598.0</td>\n",
       "      <td>271.0</td>\n",
       "      <td>15.6638</td>\n",
       "      <td>68.0</td>\n",
       "      <td>2019-11-01 02:27:00</td>\n",
       "      <td>2019-11-01 02:37:00</td>\n",
       "      <td>6.92570</td>\n",
       "      <td>79.8895</td>\n",
       "      <td>6.92748</td>\n",
       "      <td>79.8971</td>\n",
       "      <td>82.30</td>\n",
       "      <td>correct</td>\n",
       "      <td>02:27:00</td>\n",
       "      <td>02:37:00</td>\n",
       "      <td>118</td>\n",
       "      <td>133</td>\n",
       "      <td>1</td>\n",
       "    </tr>\n",
       "    <tr>\n",
       "      <th>4</th>\n",
       "      <td>189128020</td>\n",
       "      <td>NaN</td>\n",
       "      <td>NaN</td>\n",
       "      <td>NaN</td>\n",
       "      <td>NaN</td>\n",
       "      <td>NaN</td>\n",
       "      <td>2019-11-01 03:34:00</td>\n",
       "      <td>2019-11-01 03:51:00</td>\n",
       "      <td>6.87441</td>\n",
       "      <td>79.8615</td>\n",
       "      <td>6.84478</td>\n",
       "      <td>79.9290</td>\n",
       "      <td>358.39</td>\n",
       "      <td>correct</td>\n",
       "      <td>03:34:00</td>\n",
       "      <td>03:51:00</td>\n",
       "      <td>163</td>\n",
       "      <td>179</td>\n",
       "      <td>1</td>\n",
       "    </tr>\n",
       "  </tbody>\n",
       "</table>\n",
       "</div>"
      ],
      "text/plain": [
       "      tripid  additional_fare  duration  meter_waiting  meter_waiting_fare  \\\n",
       "0  189123628             10.5     834.0           56.0              0.0000   \n",
       "1  189125358             10.5     791.0           47.0              0.0000   \n",
       "2  189125719             10.5    1087.0           80.0              0.0000   \n",
       "3  189127273             10.5     598.0          271.0             15.6638   \n",
       "4  189128020              NaN       NaN            NaN                 NaN   \n",
       "\n",
       "   meter_waiting_till_pickup         pickup_time           drop_time  \\\n",
       "0                       64.0 2019-11-01 00:20:00 2019-11-01 00:34:00   \n",
       "1                      134.0 2019-11-01 00:56:00 2019-11-01 01:09:00   \n",
       "2                       61.0 2019-11-01 01:08:00 2019-11-01 01:26:00   \n",
       "3                       68.0 2019-11-01 02:27:00 2019-11-01 02:37:00   \n",
       "4                        NaN 2019-11-01 03:34:00 2019-11-01 03:51:00   \n",
       "\n",
       "   pick_lat  pick_lon  drop_lat  drop_lon    fare    label pickup_time_only  \\\n",
       "0   6.86252   79.8993   6.90330   79.8783  270.32  correct         00:20:00   \n",
       "1   6.88589   79.8984   6.91373   79.8923  197.85  correct         00:56:00   \n",
       "2   6.90839   79.8651   6.93669   79.9146  301.64  correct         01:08:00   \n",
       "3   6.92570   79.8895   6.92748   79.8971   82.30  correct         02:27:00   \n",
       "4   6.87441   79.8615   6.84478   79.9290  358.39  correct         03:34:00   \n",
       "\n",
       "  drop_time_only  pickup_time_only_code  drop_time_only_code  binary_label  \n",
       "0       00:34:00                     19                   34             1  \n",
       "1       01:09:00                     52                   69             1  \n",
       "2       01:26:00                     62                   81             1  \n",
       "3       02:37:00                    118                  133             1  \n",
       "4       03:51:00                    163                  179             1  "
      ]
     },
     "execution_count": 7,
     "metadata": {},
     "output_type": "execute_result"
    }
   ],
   "source": [
    "fare_data_train.head()"
   ]
  },
  {
   "cell_type": "code",
   "execution_count": null,
   "metadata": {},
   "outputs": [],
   "source": []
  },
  {
   "cell_type": "code",
   "execution_count": 8,
   "metadata": {},
   "outputs": [],
   "source": [
    "corrMatrix = fare_data_train.corr()"
   ]
  },
  {
   "cell_type": "code",
   "execution_count": 9,
   "metadata": {},
   "outputs": [],
   "source": [
    "import seaborn as sn\n",
    "import matplotlib.pyplot as plt\n",
    "from matplotlib.pyplot import figure"
   ]
  },
  {
   "cell_type": "code",
   "execution_count": 10,
   "metadata": {},
   "outputs": [
    {
     "data": {
      "text/plain": [
       "<matplotlib.axes._subplots.AxesSubplot at 0x1a793eb92c8>"
      ]
     },
     "execution_count": 10,
     "metadata": {},
     "output_type": "execute_result"
    },
    {
     "data": {
      "image/png": "[encoded data removed]",
      "text/plain": [
       "<Figure size 720x720 with 2 Axes>"
      ]
     },
     "metadata": {
      "needs_background": "light"
     },
     "output_type": "display_data"
    }
   ],
   "source": [
    "plt.figure(figsize = (10,10))\n",
    "sn.heatmap(corrMatrix, annot=True)\n"
   ]
  },
  {
   "cell_type": "markdown",
   "metadata": {},
   "source": [
    "the correaltion matrix shows these correlatrions:additional fare is correlated with meter_waiting and meter_waiting_fare. "
   ]
  },
  {
   "cell_type": "markdown",
   "metadata": {},
   "source": [
    "fare is strongly correlated with duration, meter_waiting, meter_waiting_fare. additional_fare affects fare\n",
    "     "
   ]
  },
  {
   "cell_type": "markdown",
   "metadata": {},
   "source": [
    "pick_lon, pick_lat, drop_lon and drop_lat correlated to each other but don't show any direct correlation with fare."
   ]
  },
  {
   "cell_type": "markdown",
   "metadata": {},
   "source": [
    "meter_wating and meter_waiting_fare correlation to duration"
   ]
  },
  {
   "cell_type": "markdown",
   "metadata": {},
   "source": [
    "no much correlated features with label correct or incorrect"
   ]
  },
  {
   "cell_type": "code",
   "execution_count": 11,
   "metadata": {},
   "outputs": [
    {
     "data": {
      "text/html": [
       "<div>\n",
       "<style scoped>\n",
       "    .dataframe tbody tr th:only-of-type {\n",
       "        vertical-align: middle;\n",
       "    }\n",
       "\n",
       "    .dataframe tbody tr th {\n",
       "        vertical-align: top;\n",
       "    }\n",
       "\n",
       "    .dataframe thead th {\n",
       "        text-align: right;\n",
       "    }\n",
       "</style>\n",
       "<table border=\"1\" class=\"dataframe\">\n",
       "  <thead>\n",
       "    <tr style=\"text-align: right;\">\n",
       "      <th></th>\n",
       "      <th>duration</th>\n",
       "      <th>meter_waiting</th>\n",
       "      <th>meter_waiting_fare</th>\n",
       "      <th>fare</th>\n",
       "      <th>pickup_time_only_code</th>\n",
       "      <th>drop_time_only_code</th>\n",
       "      <th>binary_label</th>\n",
       "    </tr>\n",
       "  </thead>\n",
       "  <tbody>\n",
       "    <tr>\n",
       "      <th>0</th>\n",
       "      <td>834.0</td>\n",
       "      <td>56.0</td>\n",
       "      <td>0.0000</td>\n",
       "      <td>270.32</td>\n",
       "      <td>19</td>\n",
       "      <td>34</td>\n",
       "      <td>1</td>\n",
       "    </tr>\n",
       "    <tr>\n",
       "      <th>1</th>\n",
       "      <td>791.0</td>\n",
       "      <td>47.0</td>\n",
       "      <td>0.0000</td>\n",
       "      <td>197.85</td>\n",
       "      <td>52</td>\n",
       "      <td>69</td>\n",
       "      <td>1</td>\n",
       "    </tr>\n",
       "    <tr>\n",
       "      <th>2</th>\n",
       "      <td>1087.0</td>\n",
       "      <td>80.0</td>\n",
       "      <td>0.0000</td>\n",
       "      <td>301.64</td>\n",
       "      <td>62</td>\n",
       "      <td>81</td>\n",
       "      <td>1</td>\n",
       "    </tr>\n",
       "    <tr>\n",
       "      <th>3</th>\n",
       "      <td>598.0</td>\n",
       "      <td>271.0</td>\n",
       "      <td>15.6638</td>\n",
       "      <td>82.30</td>\n",
       "      <td>118</td>\n",
       "      <td>133</td>\n",
       "      <td>1</td>\n",
       "    </tr>\n",
       "    <tr>\n",
       "      <th>4</th>\n",
       "      <td>NaN</td>\n",
       "      <td>NaN</td>\n",
       "      <td>NaN</td>\n",
       "      <td>358.39</td>\n",
       "      <td>163</td>\n",
       "      <td>179</td>\n",
       "      <td>1</td>\n",
       "    </tr>\n",
       "  </tbody>\n",
       "</table>\n",
       "</div>"
      ],
      "text/plain": [
       "   duration  meter_waiting  meter_waiting_fare    fare  pickup_time_only_code  \\\n",
       "0     834.0           56.0              0.0000  270.32                     19   \n",
       "1     791.0           47.0              0.0000  197.85                     52   \n",
       "2    1087.0           80.0              0.0000  301.64                     62   \n",
       "3     598.0          271.0             15.6638   82.30                    118   \n",
       "4       NaN            NaN                 NaN  358.39                    163   \n",
       "\n",
       "   drop_time_only_code  binary_label  \n",
       "0                   34             1  \n",
       "1                   69             1  \n",
       "2                   81             1  \n",
       "3                  133             1  \n",
       "4                  179             1  "
      ]
     },
     "execution_count": 11,
     "metadata": {},
     "output_type": "execute_result"
    }
   ],
   "source": [
    "fare_data_train = fare_data_train.drop(['tripid', 'additional_fare', 'pick_lat', 'pick_lon', 'drop_lat', 'drop_lon', 'meter_waiting_till_pickup', 'pickup_time', 'pickup_time_only', 'drop_time_only', 'drop_time', 'label'], axis=1)\n",
    "fare_data_train.head()"
   ]
  },
  {
   "cell_type": "code",
   "execution_count": 12,
   "metadata": {},
   "outputs": [
    {
     "data": {
      "text/plain": [
       "duration                 202\n",
       "meter_waiting            202\n",
       "meter_waiting_fare       202\n",
       "fare                     137\n",
       "pickup_time_only_code      0\n",
       "drop_time_only_code        0\n",
       "binary_label               0\n",
       "dtype: int64"
      ]
     },
     "execution_count": 12,
     "metadata": {},
     "output_type": "execute_result"
    }
   ],
   "source": [
    "fare_data_train.isnull().sum()"
   ]
  },
  {
   "cell_type": "markdown",
   "metadata": {},
   "source": [
    "as the additional_fare and fare things are zero, those values are recorded and let's replace them by zero"
   ]
  },
  {
   "cell_type": "code",
   "execution_count": 13,
   "metadata": {},
   "outputs": [
    {
     "name": "stdout",
     "output_type": "stream",
     "text": [
      " \n",
      "Count total NaN at each column in a DataFrame : \n",
      "\n",
      " duration                 0\n",
      "meter_waiting            0\n",
      "meter_waiting_fare       0\n",
      "fare                     0\n",
      "pickup_time_only_code    0\n",
      "drop_time_only_code      0\n",
      "binary_label             0\n",
      "dtype: int64\n"
     ]
    }
   ],
   "source": [
    "fare_data_train = fare_data_train.fillna(0)\n",
    "print(\" \\nCount total NaN at each column in a DataFrame : \\n\\n\", \n",
    "fare_data_train.isnull().sum()) "
   ]
  },
  {
   "cell_type": "code",
   "execution_count": 14,
   "metadata": {},
   "outputs": [
    {
     "name": "stdout",
     "output_type": "stream",
     "text": [
      "<class 'pandas.core.frame.DataFrame'>\n",
      "RangeIndex: 17176 entries, 0 to 17175\n",
      "Data columns (total 7 columns):\n",
      " #   Column                 Non-Null Count  Dtype  \n",
      "---  ------                 --------------  -----  \n",
      " 0   duration               17176 non-null  float64\n",
      " 1   meter_waiting          17176 non-null  float64\n",
      " 2   meter_waiting_fare     17176 non-null  float64\n",
      " 3   fare                   17176 non-null  float64\n",
      " 4   pickup_time_only_code  17176 non-null  int32  \n",
      " 5   drop_time_only_code    17176 non-null  int32  \n",
      " 6   binary_label           17176 non-null  int32  \n",
      "dtypes: float64(4), int32(3)\n",
      "memory usage: 738.2 KB\n"
     ]
    }
   ],
   "source": [
    "fare_data_train.info()"
   ]
  },
  {
   "cell_type": "code",
   "execution_count": 15,
   "metadata": {},
   "outputs": [
    {
     "data": {
      "text/html": [
       "<div>\n",
       "<style scoped>\n",
       "    .dataframe tbody tr th:only-of-type {\n",
       "        vertical-align: middle;\n",
       "    }\n",
       "\n",
       "    .dataframe tbody tr th {\n",
       "        vertical-align: top;\n",
       "    }\n",
       "\n",
       "    .dataframe thead th {\n",
       "        text-align: right;\n",
       "    }\n",
       "</style>\n",
       "<table border=\"1\" class=\"dataframe\">\n",
       "  <thead>\n",
       "    <tr style=\"text-align: right;\">\n",
       "      <th></th>\n",
       "      <th>duration</th>\n",
       "      <th>meter_waiting</th>\n",
       "      <th>meter_waiting_fare</th>\n",
       "      <th>fare</th>\n",
       "      <th>pickup_time_only_code</th>\n",
       "      <th>drop_time_only_code</th>\n",
       "    </tr>\n",
       "  </thead>\n",
       "  <tbody>\n",
       "    <tr>\n",
       "      <th>0</th>\n",
       "      <td>834.0</td>\n",
       "      <td>56.0</td>\n",
       "      <td>0.0000</td>\n",
       "      <td>270.32</td>\n",
       "      <td>19</td>\n",
       "      <td>34</td>\n",
       "    </tr>\n",
       "    <tr>\n",
       "      <th>1</th>\n",
       "      <td>791.0</td>\n",
       "      <td>47.0</td>\n",
       "      <td>0.0000</td>\n",
       "      <td>197.85</td>\n",
       "      <td>52</td>\n",
       "      <td>69</td>\n",
       "    </tr>\n",
       "    <tr>\n",
       "      <th>2</th>\n",
       "      <td>1087.0</td>\n",
       "      <td>80.0</td>\n",
       "      <td>0.0000</td>\n",
       "      <td>301.64</td>\n",
       "      <td>62</td>\n",
       "      <td>81</td>\n",
       "    </tr>\n",
       "    <tr>\n",
       "      <th>3</th>\n",
       "      <td>598.0</td>\n",
       "      <td>271.0</td>\n",
       "      <td>15.6638</td>\n",
       "      <td>82.30</td>\n",
       "      <td>118</td>\n",
       "      <td>133</td>\n",
       "    </tr>\n",
       "    <tr>\n",
       "      <th>4</th>\n",
       "      <td>0.0</td>\n",
       "      <td>0.0</td>\n",
       "      <td>0.0000</td>\n",
       "      <td>358.39</td>\n",
       "      <td>163</td>\n",
       "      <td>179</td>\n",
       "    </tr>\n",
       "  </tbody>\n",
       "</table>\n",
       "</div>"
      ],
      "text/plain": [
       "   duration  meter_waiting  meter_waiting_fare    fare  pickup_time_only_code  \\\n",
       "0     834.0           56.0              0.0000  270.32                     19   \n",
       "1     791.0           47.0              0.0000  197.85                     52   \n",
       "2    1087.0           80.0              0.0000  301.64                     62   \n",
       "3     598.0          271.0             15.6638   82.30                    118   \n",
       "4       0.0            0.0              0.0000  358.39                    163   \n",
       "\n",
       "   drop_time_only_code  \n",
       "0                   34  \n",
       "1                   69  \n",
       "2                   81  \n",
       "3                  133  \n",
       "4                  179  "
      ]
     },
     "execution_count": 15,
     "metadata": {},
     "output_type": "execute_result"
    }
   ],
   "source": [
    "X = fare_data_train.drop(['binary_label'], axis=1)\n",
    "X.head()"
   ]
  },
  {
   "cell_type": "code",
   "execution_count": 16,
   "metadata": {},
   "outputs": [
    {
     "data": {
      "text/plain": [
       "0    1\n",
       "1    1\n",
       "2    1\n",
       "3    1\n",
       "4    1\n",
       "Name: binary_label, dtype: int32"
      ]
     },
     "execution_count": 16,
     "metadata": {},
     "output_type": "execute_result"
    }
   ],
   "source": [
    "y = fare_data_train['binary_label']\n",
    "y.head()"
   ]
  },
  {
   "cell_type": "code",
   "execution_count": 17,
   "metadata": {},
   "outputs": [],
   "source": [
    "X_train, X_test, y_train, y_test = train_test_split(X, y, test_size = 0.20)"
   ]
  },
  {
   "cell_type": "code",
   "execution_count": 18,
   "metadata": {},
   "outputs": [],
   "source": [
    "# from sklearn.svm import SVC\n",
    "# svclassifier = SVC(kernel='poly', degree=8)\n",
    "# svclassifier.fit(X_train, y_train)"
   ]
  },
  {
   "cell_type": "code",
   "execution_count": 19,
   "metadata": {},
   "outputs": [],
   "source": [
    "# y_pred = svclassifier.predict(X_test)\n",
    "# print(confusion_matrix(y_test,y_pred))\n",
    "# print(classification_report(y_test,y_pred))"
   ]
  },
  {
   "cell_type": "code",
   "execution_count": 20,
   "metadata": {},
   "outputs": [],
   "source": [
    "from sklearn.svm import SVC\n",
    "from sklearn.metrics import classification_report, confusion_matrix\n"
   ]
  },
  {
   "cell_type": "code",
   "execution_count": 21,
   "metadata": {},
   "outputs": [
    {
     "name": "stdout",
     "output_type": "stream",
     "text": [
      "[[  10  308]\n",
      " [   0 3118]]\n",
      "              precision    recall  f1-score   support\n",
      "\n",
      "           0       1.00      0.03      0.06       318\n",
      "           1       0.91      1.00      0.95      3118\n",
      "\n",
      "    accuracy                           0.91      3436\n",
      "   macro avg       0.96      0.52      0.51      3436\n",
      "weighted avg       0.92      0.91      0.87      3436\n",
      "\n"
     ]
    }
   ],
   "source": [
    "svclassifier = SVC(kernel='rbf')\n",
    "svclassifier.fit(X_train, y_train)\n",
    "y_pred = svclassifier.predict(X_test)\n",
    "print(confusion_matrix(y_test,y_pred))\n",
    "print(classification_report(y_test,y_pred))\n"
   ]
  },
  {
   "cell_type": "code",
   "execution_count": 22,
   "metadata": {},
   "outputs": [
    {
     "name": "stdout",
     "output_type": "stream",
     "text": [
      "[[  65  253]\n",
      " [  67 3051]]\n",
      "              precision    recall  f1-score   support\n",
      "\n",
      "           0       0.49      0.20      0.29       318\n",
      "           1       0.92      0.98      0.95      3118\n",
      "\n",
      "    accuracy                           0.91      3436\n",
      "   macro avg       0.71      0.59      0.62      3436\n",
      "weighted avg       0.88      0.91      0.89      3436\n",
      "\n"
     ]
    }
   ],
   "source": [
    "svclassifier = SVC(kernel='sigmoid')\n",
    "svclassifier.fit(X_train, y_train)\n",
    "y_pred = svclassifier.predict(X_test)\n",
    "print(confusion_matrix(y_test,y_pred))\n",
    "print(classification_report(y_test,y_pred))"
   ]
  },
  {
   "cell_type": "code",
   "execution_count": 23,
   "metadata": {},
   "outputs": [
    {
     "data": {
      "text/html": [
       "<div>\n",
       "<style scoped>\n",
       "    .dataframe tbody tr th:only-of-type {\n",
       "        vertical-align: middle;\n",
       "    }\n",
       "\n",
       "    .dataframe tbody tr th {\n",
       "        vertical-align: top;\n",
       "    }\n",
       "\n",
       "    .dataframe thead th {\n",
       "        text-align: right;\n",
       "    }\n",
       "</style>\n",
       "<table border=\"1\" class=\"dataframe\">\n",
       "  <thead>\n",
       "    <tr style=\"text-align: right;\">\n",
       "      <th></th>\n",
       "      <th>duration</th>\n",
       "      <th>meter_waiting</th>\n",
       "      <th>meter_waiting_fare</th>\n",
       "      <th>fare</th>\n",
       "      <th>pickup_time_only_code</th>\n",
       "      <th>drop_time_only_code</th>\n",
       "    </tr>\n",
       "  </thead>\n",
       "  <tbody>\n",
       "    <tr>\n",
       "      <th>0</th>\n",
       "      <td>924</td>\n",
       "      <td>42</td>\n",
       "      <td>2.4486</td>\n",
       "      <td>289.27</td>\n",
       "      <td>28</td>\n",
       "      <td>46</td>\n",
       "    </tr>\n",
       "    <tr>\n",
       "      <th>1</th>\n",
       "      <td>4249</td>\n",
       "      <td>20</td>\n",
       "      <td>0.0000</td>\n",
       "      <td>1912.70</td>\n",
       "      <td>45</td>\n",
       "      <td>89</td>\n",
       "    </tr>\n",
       "    <tr>\n",
       "      <th>2</th>\n",
       "      <td>1552</td>\n",
       "      <td>255</td>\n",
       "      <td>2.6588</td>\n",
       "      <td>394.00</td>\n",
       "      <td>137</td>\n",
       "      <td>170</td>\n",
       "    </tr>\n",
       "    <tr>\n",
       "      <th>3</th>\n",
       "      <td>462</td>\n",
       "      <td>16</td>\n",
       "      <td>0.0000</td>\n",
       "      <td>154.32</td>\n",
       "      <td>150</td>\n",
       "      <td>175</td>\n",
       "    </tr>\n",
       "    <tr>\n",
       "      <th>4</th>\n",
       "      <td>814</td>\n",
       "      <td>392</td>\n",
       "      <td>12.3692</td>\n",
       "      <td>147.47</td>\n",
       "      <td>225</td>\n",
       "      <td>252</td>\n",
       "    </tr>\n",
       "  </tbody>\n",
       "</table>\n",
       "</div>"
      ],
      "text/plain": [
       "   duration  meter_waiting  meter_waiting_fare     fare  \\\n",
       "0       924             42              2.4486   289.27   \n",
       "1      4249             20              0.0000  1912.70   \n",
       "2      1552            255              2.6588   394.00   \n",
       "3       462             16              0.0000   154.32   \n",
       "4       814            392             12.3692   147.47   \n",
       "\n",
       "   pickup_time_only_code  drop_time_only_code  \n",
       "0                     28                   46  \n",
       "1                     45                   89  \n",
       "2                    137                  170  \n",
       "3                    150                  175  \n",
       "4                    225                  252  "
      ]
     },
     "execution_count": 23,
     "metadata": {},
     "output_type": "execute_result"
    }
   ],
   "source": [
    "X_submit_raw = pd.read_csv(\"test.csv\", parse_dates=['pickup_time', 'drop_time'])\n",
    "X_submit_raw['pickup_time_only'] = X_submit_raw['pickup_time'].dt.time\n",
    "X_submit_raw['drop_time_only'] = X_submit_raw['drop_time'].dt.time\n",
    "lb_label = LabelEncoder()\n",
    "X_submit_raw[\"pickup_time_only_code\"] = lb_label.fit_transform(X_submit_raw[\"pickup_time_only\"])\n",
    "X_submit_raw[\"drop_time_only_code\"] = lb_label.fit_transform(X_submit_raw[\"drop_time_only\"])\n",
    "X_submit_raw[[\"pickup_time_only\", \"pickup_time_only_code\", \"drop_time_only\", \"drop_time_only_code\"]].head(11)\n",
    "X_submit = X_submit_raw.drop(['tripid', 'additional_fare', 'pick_lat', 'pick_lon', 'drop_lat', 'drop_lon', 'meter_waiting_till_pickup', 'pickup_time', 'pickup_time_only', 'drop_time_only', 'drop_time'], axis=1)\n",
    "\n",
    "X_submit.head()"
   ]
  },
  {
   "cell_type": "code",
   "execution_count": 24,
   "metadata": {},
   "outputs": [],
   "source": [
    "y_pred = svclassifier.predict(X_submit)\n",
    "pd.DataFrame(y_pred, columns=['prediction']).to_csv('prediction.csv')"
   ]
  },
  {
   "cell_type": "code",
   "execution_count": null,
   "metadata": {},
   "outputs": [],
   "source": []
  }
 ],
 "metadata": {
  "kernelspec": {
   "display_name": "Python 3",
   "language": "python",
   "name": "python3"
  },
  "language_info": {
   "codemirror_mode": {
    "name": "ipython",
    "version": 3
   },
   "file_extension": ".py",
   "mimetype": "text/x-python",
   "name": "python",
   "nbconvert_exporter": "python",
   "pygments_lexer": "ipython3",
   "version": "3.7.6"
  }
 },
 "nbformat": 4,
 "nbformat_minor": 4
}
